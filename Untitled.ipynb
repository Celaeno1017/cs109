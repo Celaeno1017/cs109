{
 "cells": [
  {
   "cell_type": "code",
   "execution_count": 3,
   "metadata": {},
   "outputs": [],
   "source": [
    "import plotly.plotly as py\n",
    "import plotly.figure_factory as ff\n",
    "\n",
    "import numpy as np\n",
    "import pandas as pd"
   ]
  },
  {
   "cell_type": "code",
   "execution_count": 9,
   "metadata": {},
   "outputs": [],
   "source": [
    "discr_df = pd.read_csv('Fully_paid_percent.csv',index_col=0)"
   ]
  },
  {
   "cell_type": "code",
   "execution_count": 10,
   "metadata": {},
   "outputs": [
    {
     "data": {
      "text/html": [
       "<div>\n",
       "<style scoped>\n",
       "    .dataframe tbody tr th:only-of-type {\n",
       "        vertical-align: middle;\n",
       "    }\n",
       "\n",
       "    .dataframe tbody tr th {\n",
       "        vertical-align: top;\n",
       "    }\n",
       "\n",
       "    .dataframe thead th {\n",
       "        text-align: right;\n",
       "    }\n",
       "</style>\n",
       "<table border=\"1\" class=\"dataframe\">\n",
       "  <thead>\n",
       "    <tr style=\"text-align: right;\">\n",
       "      <th></th>\n",
       "      <th>FP_reality</th>\n",
       "      <th>FP_cutoff_05</th>\n",
       "      <th>FP_cutoff_08</th>\n",
       "      <th>States</th>\n",
       "    </tr>\n",
       "  </thead>\n",
       "  <tbody>\n",
       "    <tr>\n",
       "      <th>0</th>\n",
       "      <td>0.671053</td>\n",
       "      <td>0.947368</td>\n",
       "      <td>0.289474</td>\n",
       "      <td>AK</td>\n",
       "    </tr>\n",
       "    <tr>\n",
       "      <th>1</th>\n",
       "      <td>0.713270</td>\n",
       "      <td>0.912322</td>\n",
       "      <td>0.293839</td>\n",
       "      <td>AL</td>\n",
       "    </tr>\n",
       "    <tr>\n",
       "      <th>2</th>\n",
       "      <td>0.640845</td>\n",
       "      <td>0.894366</td>\n",
       "      <td>0.250000</td>\n",
       "      <td>AR</td>\n",
       "    </tr>\n",
       "    <tr>\n",
       "      <th>3</th>\n",
       "      <td>0.750857</td>\n",
       "      <td>0.931429</td>\n",
       "      <td>0.326857</td>\n",
       "      <td>AZ</td>\n",
       "    </tr>\n",
       "    <tr>\n",
       "      <th>4</th>\n",
       "      <td>0.747106</td>\n",
       "      <td>0.922361</td>\n",
       "      <td>0.296027</td>\n",
       "      <td>CA</td>\n",
       "    </tr>\n",
       "  </tbody>\n",
       "</table>\n",
       "</div>"
      ],
      "text/plain": [
       "   FP_reality  FP_cutoff_05  FP_cutoff_08 States\n",
       "0    0.671053      0.947368      0.289474     AK\n",
       "1    0.713270      0.912322      0.293839     AL\n",
       "2    0.640845      0.894366      0.250000     AR\n",
       "3    0.750857      0.931429      0.326857     AZ\n",
       "4    0.747106      0.922361      0.296027     CA"
      ]
     },
     "execution_count": 10,
     "metadata": {},
     "output_type": "execute_result"
    }
   ],
   "source": [
    "discr_df.head()"
   ]
  },
  {
   "cell_type": "code",
   "execution_count": 17,
   "metadata": {},
   "outputs": [],
   "source": [
    "import plotly\n",
    "plotly.tools.set_credentials_file(username='jiangshan.zhang1017', api_key='8yjuuxPPJfd5Sl1ZxB6m')"
   ]
  },
  {
   "cell_type": "code",
   "execution_count": 186,
   "metadata": {},
   "outputs": [],
   "source": [
    "def plotheatmap(data,title_cut):\n",
    "    for col in discr_df.columns:\n",
    "        discr_df[col] = discr_df[col].astype(str)\n",
    "\n",
    "    scl = [[0.0, 'rgb(165,0,38)'], [0.25, 'rgb(244,109,67)'], \n",
    "        [0.5, 'rgb(171,217,233)'], [0.75, 'rgb(69,117,180)'],\n",
    "        [1.0, 'rgb(49,54,149)']]\n",
    "\n",
    "    data = [ dict(\n",
    "            type='choropleth',\n",
    "            colorscale = scl,\n",
    "            autocolorscale = True,\n",
    "            reversescale = True,\n",
    "            locations = discr_df['States'],\n",
    "            z = data.astype(float),\n",
    "            zauto=False,\n",
    "            zmin=-0.18,\n",
    "            zmax=0.18,\n",
    "            locationmode = 'USA-states',\n",
    "            marker = dict(\n",
    "                line = dict (\n",
    "                    color = 'rgb(255,255,255)',\n",
    "                    width = 2\n",
    "                ) ),\n",
    "            colorbar = dict(\n",
    "                title = \"Percent\")\n",
    "            ) ]\n",
    "\n",
    "    layout = dict(\n",
    "            title = 'Full Payment People Distribution in '+ str(title_cut)+ ' in Different States',\n",
    "            geo = dict(\n",
    "                scope='usa',\n",
    "                projection=dict( type='albers usa' ),\n",
    "                showlakes = True,\n",
    "                lakecolor = 'rgb(255, 255, 255)'),\n",
    "                 )\n",
    "    \n",
    "    fig = dict( data=data, layout=layout )\n",
    "    return py.iplot( fig, filename= title_cut+'prob' )\n",
    "\n"
   ]
  },
  {
   "cell_type": "code",
   "execution_count": 187,
   "metadata": {},
   "outputs": [
    {
     "data": {
      "text/html": [
       "<iframe id=\"igraph\" scrolling=\"no\" style=\"border:none;\" seamless=\"seamless\" src=\"https://plot.ly/~jiangshan.zhang1017/6.embed\" height=\"525px\" width=\"100%\"></iframe>"
      ],
      "text/plain": [
       "<plotly.tools.PlotlyDisplay object>"
      ]
     },
     "execution_count": 187,
     "metadata": {},
     "output_type": "execute_result"
    }
   ],
   "source": [
    "\n",
    "full_stand=np.array(discr_df['FP_reality'].astype(float)).reshape(-1,1)-np.mean(np.array(discr_df['FP_reality'].astype(float)).reshape(-1,1))\n",
    "plotheatmap(full_stand,'Real Data')"
   ]
  },
  {
   "cell_type": "code",
   "execution_count": 152,
   "metadata": {},
   "outputs": [],
   "source": [
    "full_05_stand=np.array(discr_df['FP_cutoff_05'].astype(float)).reshape(-1,1)-np.mean(np.array(discr_df['FP_cutoff_05'].astype(float)).reshape(-1,1))\n",
    "full_08_stand=np.array(discr_df['FP_cutoff_08'].astype(float)).reshape(-1,1)-np.mean(np.array(discr_df['FP_cutoff_08'].astype(float)).reshape(-1,1))\n",
    "full_05_stand_dif=full_05_stand-full_stand\n",
    "full_08_stand_dif=full_08_stand-full_stand"
   ]
  },
  {
   "cell_type": "code",
   "execution_count": 188,
   "metadata": {},
   "outputs": [
    {
     "data": {
      "text/html": [
       "<iframe id=\"igraph\" scrolling=\"no\" style=\"border:none;\" seamless=\"seamless\" src=\"https://plot.ly/~jiangshan.zhang1017/8.embed\" height=\"525px\" width=\"100%\"></iframe>"
      ],
      "text/plain": [
       "<plotly.tools.PlotlyDisplay object>"
      ]
     },
     "execution_count": 188,
     "metadata": {},
     "output_type": "execute_result"
    }
   ],
   "source": [
    "plotheatmap(full_05_stand,'50% Cutoff Prediction')"
   ]
  },
  {
   "cell_type": "code",
   "execution_count": 189,
   "metadata": {},
   "outputs": [
    {
     "data": {
      "text/html": [
       "<iframe id=\"igraph\" scrolling=\"no\" style=\"border:none;\" seamless=\"seamless\" src=\"https://plot.ly/~jiangshan.zhang1017/10.embed\" height=\"525px\" width=\"100%\"></iframe>"
      ],
      "text/plain": [
       "<plotly.tools.PlotlyDisplay object>"
      ]
     },
     "execution_count": 189,
     "metadata": {},
     "output_type": "execute_result"
    }
   ],
   "source": [
    "plotheatmap(full_08_stand,'80% Cutoff Prediction')"
   ]
  },
  {
   "cell_type": "code",
   "execution_count": 162,
   "metadata": {},
   "outputs": [
    {
     "data": {
      "text/html": [
       "<div>\n",
       "<style scoped>\n",
       "    .dataframe tbody tr th:only-of-type {\n",
       "        vertical-align: middle;\n",
       "    }\n",
       "\n",
       "    .dataframe tbody tr th {\n",
       "        vertical-align: top;\n",
       "    }\n",
       "\n",
       "    .dataframe thead th {\n",
       "        text-align: right;\n",
       "    }\n",
       "</style>\n",
       "<table border=\"1\" class=\"dataframe\">\n",
       "  <thead>\n",
       "    <tr style=\"text-align: right;\">\n",
       "      <th></th>\n",
       "      <th>state</th>\n",
       "      <th>false_negative_cutoff_05</th>\n",
       "      <th>false_negative_cutoff_08</th>\n",
       "    </tr>\n",
       "  </thead>\n",
       "  <tbody>\n",
       "    <tr>\n",
       "      <th>0</th>\n",
       "      <td>AK</td>\n",
       "      <td>0.039216</td>\n",
       "      <td>0.627451</td>\n",
       "    </tr>\n",
       "    <tr>\n",
       "      <th>1</th>\n",
       "      <td>AL</td>\n",
       "      <td>0.059801</td>\n",
       "      <td>0.644518</td>\n",
       "    </tr>\n",
       "    <tr>\n",
       "      <th>2</th>\n",
       "      <td>AR</td>\n",
       "      <td>0.054945</td>\n",
       "      <td>0.670330</td>\n",
       "    </tr>\n",
       "    <tr>\n",
       "      <th>3</th>\n",
       "      <td>AZ</td>\n",
       "      <td>0.051750</td>\n",
       "      <td>0.621005</td>\n",
       "    </tr>\n",
       "    <tr>\n",
       "      <th>4</th>\n",
       "      <td>CA</td>\n",
       "      <td>0.047706</td>\n",
       "      <td>0.640535</td>\n",
       "    </tr>\n",
       "  </tbody>\n",
       "</table>\n",
       "</div>"
      ],
      "text/plain": [
       "  state  false_negative_cutoff_05  false_negative_cutoff_08\n",
       "0    AK                  0.039216                  0.627451\n",
       "1    AL                  0.059801                  0.644518\n",
       "2    AR                  0.054945                  0.670330\n",
       "3    AZ                  0.051750                  0.621005\n",
       "4    CA                  0.047706                  0.640535"
      ]
     },
     "execution_count": 162,
     "metadata": {},
     "output_type": "execute_result"
    }
   ],
   "source": [
    "false_neg_df = pd.read_csv('falseNegativeRatio.csv',index_col=0)\n",
    "false_neg_df.head()"
   ]
  },
  {
   "cell_type": "code",
   "execution_count": 191,
   "metadata": {},
   "outputs": [],
   "source": [
    "def plot_false(data,title_cut):\n",
    "    for col in discr_df.columns:\n",
    "        discr_df[col] = discr_df[col].astype(str)\n",
    "\n",
    "    scl = [[0.0, 'rgb(165,0,38)'], [0.25, 'rgb(244,109,67)'], \n",
    "        [0.5, 'rgb(171,217,233)'], [0.75, 'rgb(69,117,180)'],\n",
    "        [1.0, 'rgb(49,54,149)']]\n",
    "\n",
    "    data = [ dict(\n",
    "            type='choropleth',\n",
    "            colorscale = scl,\n",
    "            autocolorscale = True,\n",
    "            locations = discr_df['States'],\n",
    "            z = data.astype(float),\n",
    "            locationmode = 'USA-states',\n",
    "            marker = dict(\n",
    "                line = dict (\n",
    "                    color = 'rgb(255,255,255)',\n",
    "                    width = 2\n",
    "                ) ),\n",
    "            colorbar = dict(\n",
    "                title = \"Percent\")\n",
    "            ) ]\n",
    "\n",
    "    layout = dict(\n",
    "            title = 'False Negative Ratio in '+ str(title_cut)+ ' in Different States',\n",
    "            geo = dict(\n",
    "                scope='usa',\n",
    "                projection=dict( type='albers usa' ),\n",
    "                showlakes = True,\n",
    "                lakecolor = 'rgb(255, 255, 255)'),\n",
    "                 )\n",
    "    \n",
    "    fig = dict( data=data, layout=layout )\n",
    "    return py.iplot( fig, filename=title_cut )\n",
    " "
   ]
  },
  {
   "cell_type": "code",
   "execution_count": 192,
   "metadata": {},
   "outputs": [
    {
     "data": {
      "text/html": [
       "<iframe id=\"igraph\" scrolling=\"no\" style=\"border:none;\" seamless=\"seamless\" src=\"https://plot.ly/~jiangshan.zhang1017/12.embed\" height=\"525px\" width=\"100%\"></iframe>"
      ],
      "text/plain": [
       "<plotly.tools.PlotlyDisplay object>"
      ]
     },
     "execution_count": 192,
     "metadata": {},
     "output_type": "execute_result"
    }
   ],
   "source": [
    "plot_false(false_neg_df['false_negative_cutoff_05'],'50% Cutoff Prediction')"
   ]
  },
  {
   "cell_type": "code",
   "execution_count": 193,
   "metadata": {},
   "outputs": [
    {
     "data": {
      "text/html": [
       "<iframe id=\"igraph\" scrolling=\"no\" style=\"border:none;\" seamless=\"seamless\" src=\"https://plot.ly/~jiangshan.zhang1017/14.embed\" height=\"525px\" width=\"100%\"></iframe>"
      ],
      "text/plain": [
       "<plotly.tools.PlotlyDisplay object>"
      ]
     },
     "execution_count": 193,
     "metadata": {},
     "output_type": "execute_result"
    }
   ],
   "source": [
    "plot_false(false_neg_df['false_negative_cutoff_08'],'80% Cutoff Prediction')"
   ]
  },
  {
   "cell_type": "code",
   "execution_count": null,
   "metadata": {},
   "outputs": [],
   "source": []
  }
 ],
 "metadata": {
  "kernelspec": {
   "display_name": "Python 3",
   "language": "python",
   "name": "python3"
  },
  "language_info": {
   "codemirror_mode": {
    "name": "ipython",
    "version": 3
   },
   "file_extension": ".py",
   "mimetype": "text/x-python",
   "name": "python",
   "nbconvert_exporter": "python",
   "pygments_lexer": "ipython3",
   "version": "3.6.5"
  }
 },
 "nbformat": 4,
 "nbformat_minor": 2
}
